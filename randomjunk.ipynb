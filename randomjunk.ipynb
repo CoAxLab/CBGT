{
 "cells": [
  {
   "cell_type": "raw",
   "metadata": {},
   "source": [
    "# 2  [1]\n",
    "3  [0,1]\n",
    "4  [2,0]\n",
    "5  [0,0,1]\n",
    "6  [1,1,0]\n",
    "\n",
    "2!  [1]\n",
    "3!  [1,1]\n",
    "4!  [3,1]\n",
    "5!  [3,1,1]\n",
    "6!  [4,2,1]\n",
    "\n",
    " 4  [2]\n",
    " 6  [1,1]\n",
    " 8  [3]\n",
    "10  [1,0,1]\n",
    "12  [2,1]\n",
    "20  [2,0,1]\n",
    "24  [3,1]\n",
    "30  [1,1,1]\n",
    "\n",
    "any set of 2 must be divisible by 2!, etc\n",
    "\n",
    "any set of 3 must contain at least 1 die divisible by 3\n",
    "  no more than 2 of d4,d8,d10,d20 present\n",
    "any set of 5 must contain at least 1 die divisible by 5\n",
    "  no more than 4 of d4,d6,d8,d12,d24 present\n",
    "any set of 6 must contain at least 2 dice divisible by 3\n",
    "  follows from first restriction\n",
    "  \n",
    "    3  5\n",
    " 4  x  x  .  \n",
    " 6     x  .  4\n",
    " 8  x  x  \n",
    "10  x     .  2\n",
    "12     x  .\n",
    "20  x     \n",
    "24     x  .\n",
    "30        .\n",
    "\n",
    "44"
   ]
  },
  {
   "cell_type": "code",
   "execution_count": 1,
   "metadata": {},
   "outputs": [],
   "source": [
    "from time import sleep\n",
    "import math\n",
    "import random\n",
    "# allows performing command-line operations from within Python\n",
    "from subprocess import call, Popen\n",
    "\n",
    "# tell jupyter notebook to show plots inline (with output)\n",
    "%matplotlib inline\n",
    "import pandas as pd\n",
    "import numpy as np\n",
    "from scipy.stats.distributions import norm\n",
    "import scipy.fftpack\n",
    "import seaborn as sns\n",
    "import matplotlib.pyplot as plt\n",
    "import warnings\n",
    "\n",
    "warnings.simplefilter('ignore', np.RankWarning)\n",
    "warnings.filterwarnings(\"ignore\", module=\"matplotlib\")\n",
    "warnings.filterwarnings(\"ignore\", module=\"statsmodels\")"
   ]
  },
  {
   "cell_type": "code",
   "execution_count": 28,
   "metadata": {},
   "outputs": [
    {
     "data": {
      "text/plain": [
       "True"
      ]
     },
     "execution_count": 28,
     "metadata": {},
     "output_type": "execute_result"
    }
   ],
   "source": [
    "def RollSave(dc, mod=0, prof=0):\n",
    "    roll = random.randint(1,20) + mod + prof\n",
    "    return roll >= dc\n",
    "RollSave(15)"
   ]
  },
  {
   "cell_type": "code",
   "execution_count": 11,
   "metadata": {},
   "outputs": [
    {
     "data": {
      "text/plain": [
       "1"
      ]
     },
     "execution_count": 11,
     "metadata": {},
     "output_type": "execute_result"
    }
   ],
   "source": [
    "random.randint(0,1)"
   ]
  },
  {
   "cell_type": "raw",
   "metadata": {},
   "source": []
  }
 ],
 "metadata": {
  "kernelspec": {
   "display_name": "Python 3",
   "language": "python",
   "name": "python3"
  },
  "language_info": {
   "codemirror_mode": {
    "name": "ipython",
    "version": 3
   },
   "file_extension": ".py",
   "mimetype": "text/x-python",
   "name": "python",
   "nbconvert_exporter": "python",
   "pygments_lexer": "ipython3",
   "version": "3.5.2"
  }
 },
 "nbformat": 4,
 "nbformat_minor": 2
}
